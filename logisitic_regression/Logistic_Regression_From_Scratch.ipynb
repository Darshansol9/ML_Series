{
 "cells": [
  {
   "cell_type": "code",
   "execution_count": 2,
   "metadata": {},
   "outputs": [],
   "source": [
    "import random\n",
    "import numpy as np\n",
    "import matplotlib.pyplot as plt\n",
    "import seaborn as sns\n",
    "from sklearn.model_selection import train_test_split\n",
    "import pandas as pd"
   ]
  },
  {
   "cell_type": "code",
   "execution_count": 3,
   "metadata": {},
   "outputs": [],
   "source": [
    "\n",
    "def makeData():\n",
    "    \n",
    "    mu = 0.5\n",
    "    sigma = 0.2\n",
    "\n",
    "    mu1 = -0.5\n",
    "    sigma1 = 0.2\n",
    "\n",
    "    x_cor = np.random.normal(mu, sigma, 100)\n",
    "    y_cor = np.random.normal(mu, sigma, 100)\n",
    "\n",
    "    x1_cor = np.random.normal(mu1, sigma1, 100)\n",
    "    y1_cor = np.random.normal(mu1, sigma1, 100)\n",
    "    \n",
    "    plt.scatter(x_cor,y_cor,s=10)\n",
    "    plt.scatter(x1_cor,y1_cor,s=10)\n",
    "\n",
    "    X_ = pd.DataFrame()\n",
    "    X_['1'] = list(x_cor) + list(x1_cor)\n",
    "    X_['2'] = list(y_cor) + list(y1_cor)\n",
    "    X_['op'] = [1]*100 + [0]*100\n",
    "    \n",
    "    X_ = X_.sample(frac=1).reset_index(drop=True) \n",
    "    X = X_.iloc[:,:-1].to_numpy()\n",
    "    \n",
    "    b = X_.iloc[:,-1].to_numpy()\n",
    "    y = np.zeros((b.size, b.max()+1))\n",
    "    y[np.arange(b.size),b] = 1\n",
    "\n",
    "    weights = np.random.rand(X.shape[1],len(y[0]))\n",
    "    \n",
    "    return X,y,weights\n",
    "    "
   ]
  },
  {
   "cell_type": "code",
   "execution_count": 4,
   "metadata": {},
   "outputs": [],
   "source": [
    "def data_gen():\n",
    "    \n",
    "    data = sns.load_dataset('iris')\n",
    "    \n",
    "    #Prepare the training set\n",
    "    data['species'] = data['species'].astype('category')\n",
    "    data['encode_species'] = data['species'].cat.codes\n",
    "\n",
    "    data = data.sample(frac=1).reset_index(drop=True)\n",
    "    \n",
    "    #X = feature values, all the columns except the last column\n",
    "    X = data.iloc[:, :-2].to_numpy()\n",
    "\n",
    "    # y = target values, last column of the data frame\n",
    "    b = data.iloc[:, -1].to_numpy()\n",
    "    y = np.zeros((b.size, b.max()+1))\n",
    "    y[np.arange(b.size),b] = 1\n",
    "\n",
    "    #each class will have weight vector\n",
    "    weights = np.random.rand(X.shape[1],b.max()+1)\n",
    "    \n",
    "    #print(X.shape,y.shape,weights.shape)\n",
    "    return X,y,weights\n"
   ]
  },
  {
   "cell_type": "code",
   "execution_count": 5,
   "metadata": {},
   "outputs": [],
   "source": [
    "def predict(test_data,y_test,w):\n",
    "    \n",
    "    y_pred = list(np.argmax(softmax(test_data.dot(w)),axis=1))\n",
    "    y_max = list(np.argmax(y_test,axis=1))\n",
    "    \n",
    "    return sum([1 for i in range(len(y_max)) if y_max[i] == y_pred[i]]) / len(y_test) * 100\n",
    "    \n",
    "\n",
    "def softmax(x):\n",
    "    \n",
    "    exp_values = np.exp(x - np.max(x,axis=1,keepdims=True))\n",
    "    res =  exp_values / np.sum(exp_values,axis=1,keepdims=True)\n",
    "    return res\n",
    "\n",
    "def loss_func(y,all_exp_wx,no_classes):\n",
    "    \n",
    "    loss_sum = 0\n",
    "    res = softmax(all_exp_wx)\n",
    "    idx_max = np.argmax(res,axis=1)\n",
    "    r = []\n",
    "    for idx,i in enumerate(idx_max):\n",
    "        ans = [0]*no_classes\n",
    "        loss_sum -= np.log(res[idx][i])\n",
    "        ans[i] = res[idx][i]\n",
    "        r.append(ans)\n",
    "    \n",
    "    return loss_sum,np.array(r)\n",
    "\n",
    "\n",
    "def train_test_split_fn(X,y,test_ratio):\n",
    "    \n",
    "    return train_test_split(X,y,test_size=test_ratio)\n",
    "    \n"
   ]
  },
  {
   "cell_type": "code",
   "execution_count": 25,
   "metadata": {},
   "outputs": [
    {
     "name": "stdout",
     "output_type": "stream",
     "text": [
      "Accuracy of Testing  70.0\n",
      "Accuracy of Training  63.33333333333333\n",
      "-----------Loss Plot-----------------\n"
     ]
    },
    {
     "data": {
      "image/png": "[encoded data removed]",
      "text/plain": [
       "<Figure size 432x288 with 1 Axes>"
      ]
     },
     "metadata": {
      "needs_background": "light"
     },
     "output_type": "display_data"
    }
   ],
   "source": [
    "def gradient_descent(params,X,y,iterations,alpha,classes):\n",
    "    \n",
    "    cost_history = np.zeros((iterations,1))\n",
    "    \n",
    "    for i in range(iterations):\n",
    "        loss,w_update = loss_func(y,X.dot(params),classes)\n",
    "        cost_history[i] += loss\n",
    "        params = params + alpha * X.T.dot((y-w_update))\n",
    "        \n",
    "    return cost_history,params\n",
    "\n",
    "\n",
    "def make_plot(iterations,costs):\n",
    "    \n",
    "    plt.plot(range(1,iterations+1),costs)\n",
    "    plt.xlabel('Iterations')\n",
    "    plt.ylabel('Loss')\n",
    "    plt.show()\n",
    "    \n",
    "    \n",
    "def main():\n",
    "    \n",
    "    #parameters initializations\n",
    "    iterations = 20\n",
    "    alpha = 0.002\n",
    "    \n",
    "    \n",
    "    '''Uncomment to run iris dataset for multi-class classification\n",
    "    The accuracy is pretty less because data is not linearly separable hence\n",
    "    '''\n",
    "    X,y,weights = data_gen()\n",
    "\n",
    "    #2 classes classification, generating data from scratch\n",
    "    #X,y,weights = makeData()\n",
    "    \n",
    "    classes = len(y[0])\n",
    "    \n",
    "    #making train test split\n",
    "    X_train,X_test,y_train,y_test = train_test_split_fn(X,y,0.2)\n",
    "\n",
    "    #computing the multi-class logistic regression from scratch\n",
    "    costs,p = gradient_descent(weights,X_train,y_train,iterations,0.01,classes)\n",
    "\n",
    "    #make prediction\n",
    "    print('Accuracy of Testing ',predict(X_test,y_test,p))\n",
    "    print('Accuracy of Training ',predict(X_train,y_train,p))\n",
    "    \n",
    "    print('-----------Loss Plot-----------------')\n",
    "    make_plot(iterations,costs)\n",
    "    \n",
    "main()"
   ]
  },
  {
   "cell_type": "markdown",
   "metadata": {},
   "source": [
    "#Accuarcy for cooked up dataset\n",
    "\n",
    "Accuracy of Testing:  100\n",
    "Accuracy of Training:  100\n"
   ]
  },
  {
   "cell_type": "code",
   "execution_count": null,
   "metadata": {},
   "outputs": [],
   "source": []
  }
 ],
 "metadata": {
  "kernelspec": {
   "display_name": "Python 3",
   "language": "python",
   "name": "python3"
  },
  "language_info": {
   "codemirror_mode": {
    "name": "ipython",
    "version": 3
   },
   "file_extension": ".py",
   "mimetype": "text/x-python",
   "name": "python",
   "nbconvert_exporter": "python",
   "pygments_lexer": "ipython3",
   "version": "3.8.5"
  }
 },
 "nbformat": 4,
 "nbformat_minor": 4
}
